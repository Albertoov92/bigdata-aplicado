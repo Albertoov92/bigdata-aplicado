{
 "cells": [
  {
   "cell_type": "markdown",
   "id": "fb803060",
   "metadata": {},
   "source": [
    "### Structured Streaming - práctica\n",
    "\n",
    "\n",
    "#### Consultas sobre ficheiros\n",
    "\n",
    "\n"
   ]
  },
  {
   "cell_type": "code",
   "execution_count": null,
   "id": "8a38cdfb",
   "metadata": {},
   "outputs": [],
   "source": [
    "# Extrae un mínimo de 3 ficheiros de diferentes tamaños a partir de purchases.txt para realizar este exercicio\n",
    "# compras1.tsv <- os 5.000 primeiros rexistros\n",
    "# compras2.tsv <- 100.000 rexistros do medio do ficheiro orixinal (desde o 100.000 ao 200.000)\n",
    "# compras3.tsv <- os 20.000 últimos rexistros\n",
    "\n",
    "# Neste exercicio traballarás no filesystem local\n",
    "\n",
    "# Escolle un directorio de traballo\n",
    "# Crea un directorio input e move o fichieor compras1.tsv dentro\n",
    "# Crea un directorio store e garda dentro os ficheiros csv restantes"
   ]
  },
  {
   "cell_type": "code",
   "execution_count": null,
   "id": "51df98ba",
   "metadata": {},
   "outputs": [],
   "source": []
  },
  {
   "cell_type": "code",
   "execution_count": null,
   "id": "1e0c2e2d",
   "metadata": {},
   "outputs": [],
   "source": [
    "# 1. Lanza unha consulta que mostra o número e total de vendas por tenda calculada\n",
    "#    a partir dos ficheiros en 'input'\n",
    "\n",
    "# No primeiro momento estará compras1.txt -> espera a que se execute a consulta\n",
    "# Move o segundo ficheiro e observa o resultado\n",
    "# Move o terceiro documento e observa o resultado\n",
    "\n",
    "# Compara a evolución dos datos ao ir procesando os diferentes ficheiros"
   ]
  },
  {
   "cell_type": "code",
   "execution_count": null,
   "id": "35e33b24",
   "metadata": {},
   "outputs": [],
   "source": []
  },
  {
   "cell_type": "code",
   "execution_count": null,
   "id": "e6d035db",
   "metadata": {},
   "outputs": [],
   "source": [
    "# Importa as librarías necesarias\n",
    "from pyspark.sql.types import StructType"
   ]
  },
  {
   "cell_type": "code",
   "execution_count": null,
   "id": "e6fb796b",
   "metadata": {},
   "outputs": [],
   "source": [
    "# Definimos o esquema do Dataframe\n",
    "userSchema = StructType() \\\n",
    "    .add(\"data\", \"date\") \\\n",
    "    .add(\"hora\", \"string\") \\\n",
    "    .add(\"tenda\", \"string\") \\\n",
    "    .add(\"categoria\", \"string\") \\\n",
    "    .add(\"venda\", \"float\") \\\n",
    "    .add(\"pago\", \"string\")\n",
    "\n",
    "#userSchema"
   ]
  },
  {
   "cell_type": "code",
   "execution_count": null,
   "id": "58b917e3",
   "metadata": {},
   "outputs": [],
   "source": []
  },
  {
   "cell_type": "code",
   "execution_count": null,
   "id": "0de17ae8",
   "metadata": {},
   "outputs": [],
   "source": [
    "# Creamos un Dataframe para ler o fluxo de ficheiros\n",
    "tsvFiles = spark \\\n",
    "    .readStream \\\n",
    "    .option(\"sep\", \"\\t\") \\\n",
    "    .schema(userSchema) \\\n",
    "    .csv(\"file:///home/hduser/code/spark/input\")"
   ]
  },
  {
   "cell_type": "code",
   "execution_count": null,
   "id": "538ea103",
   "metadata": {},
   "outputs": [],
   "source": [
    "tsvFiles.createOrReplaceTempView('compras')\n",
    "df_sql = spark.sql('SELECT tenda, COUNT(venda) as vendas, SUM(venda) as total FROM compras GROUP BY tenda ORDER BY total DESC')"
   ]
  },
  {
   "cell_type": "code",
   "execution_count": null,
   "id": "5a041524",
   "metadata": {},
   "outputs": [],
   "source": [
    "query = df_sql \\\n",
    "    .writeStream \\\n",
    "    .outputMode(\"complete\") \\\n",
    "    .format(\"console\") \\\n",
    "    .start()\n",
    "\n",
    "query.awaitTermination()"
   ]
  },
  {
   "cell_type": "code",
   "execution_count": null,
   "id": "19ec374c",
   "metadata": {},
   "outputs": [],
   "source": []
  },
  {
   "cell_type": "code",
   "execution_count": null,
   "id": "dc172957",
   "metadata": {},
   "outputs": [],
   "source": []
  }
 ],
 "metadata": {
  "kernelspec": {
   "display_name": "Python 3 (ipykernel)",
   "language": "python",
   "name": "python3"
  },
  "language_info": {
   "codemirror_mode": {
    "name": "ipython",
    "version": 3
   },
   "file_extension": ".py",
   "mimetype": "text/x-python",
   "name": "python",
   "nbconvert_exporter": "python",
   "pygments_lexer": "ipython3",
   "version": "3.8.10"
  }
 },
 "nbformat": 4,
 "nbformat_minor": 5
}
