{
 "cells": [
  {
   "cell_type": "markdown",
   "id": "6ebfc546",
   "metadata": {},
   "source": [
    "#### Lectura de ficheiros con tweets completos"
   ]
  },
  {
   "cell_type": "code",
   "execution_count": null,
   "id": "a76d8c04",
   "metadata": {},
   "outputs": [],
   "source": [
    "# A diferenza de read.csv, ao que lle temos que proporcionar un Schema, read.json estrae o esquema\n",
    "# do propio documento JSON\n",
    "\n",
    "df = spark.read.json(\"file:///home/hduser/input/realtweet/20tweets.json\")"
   ]
  },
  {
   "cell_type": "code",
   "execution_count": null,
   "id": "d60034eb",
   "metadata": {},
   "outputs": [],
   "source": [
    "# Miro o schema\n",
    "# A diferenza do exemplo visto anteriormente, un tweet real ten un schema moito mais amplo\n",
    "# con moita mais información\n",
    "df.printSchema()"
   ]
  },
  {
   "cell_type": "code",
   "execution_count": null,
   "id": "995fe473",
   "metadata": {},
   "outputs": [],
   "source": [
    "# Mostro algúns datos de exemplo\n",
    "df.show(3)"
   ]
  },
  {
   "cell_type": "code",
   "execution_count": null,
   "id": "94cbe2f9",
   "metadata": {},
   "outputs": [],
   "source": [
    "# os campos anteriores existen, se ben 'screen_name' temos que buscalo na árbore de datos, en user\n",
    "df.select('created_at','user.screen_name','text').show(3, truncate=False)"
   ]
  },
  {
   "cell_type": "code",
   "execution_count": null,
   "id": "2711ff67",
   "metadata": {},
   "outputs": [],
   "source": [
    "# Miro o tamaño do dataset == conto o número de tweets\n",
    "df.count()"
   ]
  },
  {
   "cell_type": "code",
   "execution_count": null,
   "id": "0544e642",
   "metadata": {},
   "outputs": [],
   "source": []
  }
 ],
 "metadata": {
  "kernelspec": {
   "display_name": "Python 3 (ipykernel)",
   "language": "python",
   "name": "python3"
  },
  "language_info": {
   "codemirror_mode": {
    "name": "ipython",
    "version": 3
   },
   "file_extension": ".py",
   "mimetype": "text/x-python",
   "name": "python",
   "nbconvert_exporter": "python",
   "pygments_lexer": "ipython3",
   "version": "3.8.10"
  }
 },
 "nbformat": 4,
 "nbformat_minor": 5
}
