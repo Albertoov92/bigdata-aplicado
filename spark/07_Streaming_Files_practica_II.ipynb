{
 "cells": [
  {
   "cell_type": "markdown",
   "id": "fb803060",
   "metadata": {},
   "source": [
    "### Structured Streaming - práctica\n",
    "\n",
    "\n",
    "#### Consultas sobre ficheiros - HDFS\n",
    "\n",
    "\n"
   ]
  },
  {
   "cell_type": "code",
   "execution_count": null,
   "id": "8a38cdfb",
   "metadata": {},
   "outputs": [],
   "source": [
    "# Extrae un mínimo de 3 ficheiros de diferentes tamaños a partir de purchases.txt para realizar este exercicio\n",
    "# compras1.tsv <- os 5.000 primeiros rexistros\n",
    "# compras2.tsv <- 100.000 rexistros do medio do ficheiro orixinal (desde o 100.000 ao 200.000)\n",
    "# compras3.tsv <- os 20.000 últimos rexistros\n",
    "\n",
    "# Neste exercicio traballarás en HDFS\n",
    "\n",
    "# Crea un ficheiro 'input_stream' no 'home' do teu HDFS (/user/hduser/input_stream)\n",
    "# Copia o ficheiro compras1.tsv a 'input_stream'"
   ]
  },
  {
   "cell_type": "code",
   "execution_count": null,
   "id": "51df98ba",
   "metadata": {},
   "outputs": [],
   "source": []
  },
  {
   "cell_type": "code",
   "execution_count": 1,
   "id": "1e0c2e2d",
   "metadata": {},
   "outputs": [],
   "source": [
    "# 1. O noso sistema debe mostrar de xeito actualizado o total de vendas pagado cos diferentes métodos de pago\n",
    "#    para cada día\n",
    "\n",
    "# No primeiro momento estará compras1.txt -> espera a que se execute a consulta\n",
    "# Move o segundo ficheiro e observa o resultado\n",
    "# Move o terceiro documento e observa o resultado\n",
    "\n",
    "# Compara a evolución dos datos ao ir procesando os diferentes ficheiros\n",
    "\n",
    "# Observa a diferenza de executar a query con 'outputMode' = complete || update\n",
    "\n",
    "# Unha vez que comprobes como funciona en Jupyter, crea unha App Pyspark e execútaa con spark-submit"
   ]
  },
  {
   "cell_type": "code",
   "execution_count": null,
   "id": "35e33b24",
   "metadata": {},
   "outputs": [],
   "source": []
  },
  {
   "cell_type": "code",
   "execution_count": null,
   "id": "19ec374c",
   "metadata": {},
   "outputs": [],
   "source": []
  },
  {
   "cell_type": "code",
   "execution_count": null,
   "id": "dc172957",
   "metadata": {},
   "outputs": [],
   "source": []
  }
 ],
 "metadata": {
  "kernelspec": {
   "display_name": "Python 3 (ipykernel)",
   "language": "python",
   "name": "python3"
  },
  "language_info": {
   "codemirror_mode": {
    "name": "ipython",
    "version": 3
   },
   "file_extension": ".py",
   "mimetype": "text/x-python",
   "name": "python",
   "nbconvert_exporter": "python",
   "pygments_lexer": "ipython3",
   "version": "3.8.10"
  }
 },
 "nbformat": 4,
 "nbformat_minor": 5
}
