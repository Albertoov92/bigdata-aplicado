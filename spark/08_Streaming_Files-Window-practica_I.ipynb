{
 "cells": [
  {
   "cell_type": "markdown",
   "id": "5a12ef0c",
   "metadata": {},
   "source": [
    "### Structured Streaming\n",
    "\n",
    "\n",
    "#### Exemplo de lectura de ficheiros - Window - Exercicio I\n",
    "\n",
    "\n",
    "https://spark.apache.org/docs/latest/structured-streaming-programming-guide.html#overview"
   ]
  },
  {
   "cell_type": "raw",
   "id": "e56e6852",
   "metadata": {},
   "source": []
  },
  {
   "cell_type": "code",
   "execution_count": 1,
   "id": "ae7e681f",
   "metadata": {},
   "outputs": [],
   "source": [
    "# Xestionamos unha cadea de cafeterías e temos un repositorio común onde cada tenda\n",
    "# sube un ficheiro coa información das súas vendas cada poucos minutos\n",
    "# Os datos de cada venda son: data/hora (timestamp), tenda, tipo (bebida,comida,...), produto"
   ]
  },
  {
   "cell_type": "code",
   "execution_count": null,
   "id": "43370688",
   "metadata": {},
   "outputs": [],
   "source": [
    "# 1\n",
    "# Queremos que o noso sistema mostre cantos produtos está vendendo cada tenda nun intervalo dunha hora\n",
    "# lanzando a consulta cada media hora"
   ]
  },
  {
   "cell_type": "code",
   "execution_count": null,
   "id": "f160eab2",
   "metadata": {},
   "outputs": [],
   "source": []
  },
  {
   "cell_type": "code",
   "execution_count": null,
   "id": "d26cc51f",
   "metadata": {},
   "outputs": [],
   "source": [
    "# 2\n",
    "# Queremos que o noso sistema mostre cantos produtos de cada tipo se venden cada tres horas\n",
    "# lanzando a consulta cada dúas horas"
   ]
  }
 ],
 "metadata": {
  "kernelspec": {
   "display_name": "Python 3 (ipykernel)",
   "language": "python",
   "name": "python3"
  },
  "language_info": {
   "codemirror_mode": {
    "name": "ipython",
    "version": 3
   },
   "file_extension": ".py",
   "mimetype": "text/x-python",
   "name": "python",
   "nbconvert_exporter": "python",
   "pygments_lexer": "ipython3",
   "version": "3.8.10"
  }
 },
 "nbformat": 4,
 "nbformat_minor": 5
}
