{
 "cells": [
  {
   "cell_type": "code",
   "execution_count": null,
   "id": "7c3f606a",
   "metadata": {},
   "outputs": [],
   "source": [
    "# Programa unha aplicación que vixile un directorio onde entrarán os ficheiros JSON \n",
    "# cos diferentes tweets.\n",
    "# Interésanos saber os usuarios máis activos na rede en intervalos dunha hora\n",
    "# executada cada 15 minutos.\n",
    "# É suficiente como listalos por orde descendente."
   ]
  },
  {
   "cell_type": "code",
   "execution_count": null,
   "id": "533b9302",
   "metadata": {},
   "outputs": [],
   "source": []
  },
  {
   "cell_type": "code",
   "execution_count": null,
   "id": "cb234713",
   "metadata": {},
   "outputs": [],
   "source": [
    "# Como exercicio extra podes facer un Top-5 para cada ventá temporal."
   ]
  },
  {
   "cell_type": "code",
   "execution_count": null,
   "id": "c6bdfbb1",
   "metadata": {},
   "outputs": [],
   "source": []
  },
  {
   "cell_type": "code",
   "execution_count": 1,
   "id": "2ff8c653",
   "metadata": {},
   "outputs": [],
   "source": [
    "## Como exercicio extra podes repetir o exercicio mais en lugar dunha lista dos usuarios máis activos\n",
    "#  trataríase de calcular o TT ou Trending Topic, tendo en conta o número de aparicións dos HASHTAGS, \n",
    "#  palabras precedidas por un símbolo #"
   ]
  },
  {
   "cell_type": "code",
   "execution_count": null,
   "id": "cec72cd8",
   "metadata": {},
   "outputs": [],
   "source": []
  }
 ],
 "metadata": {
  "kernelspec": {
   "display_name": "Python 3 (ipykernel)",
   "language": "python",
   "name": "python3"
  },
  "language_info": {
   "codemirror_mode": {
    "name": "ipython",
    "version": 3
   },
   "file_extension": ".py",
   "mimetype": "text/x-python",
   "name": "python",
   "nbconvert_exporter": "python",
   "pygments_lexer": "ipython3",
   "version": "3.8.10"
  }
 },
 "nbformat": 4,
 "nbformat_minor": 5
}
