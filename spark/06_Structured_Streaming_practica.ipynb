{
 "cells": [
  {
   "cell_type": "markdown",
   "id": "19cc9931",
   "metadata": {},
   "source": [
    "### Structured Streaming - exercicio"
   ]
  },
  {
   "cell_type": "markdown",
   "id": "75f11958",
   "metadata": {},
   "source": [
    "1. Crea unha App que mostre por pantalla o ranking/top de palabras recibidas vías socket TCP/IP\n",
    "2. Crea unha nova versión na que só sexan válidas unha lista de palabras: chocolate, cafe e cervexa\n",
    "3. Fai que a lista de palabras sexa configurable facilmente (en código)\n",
    "3. Despois de comprobar que funciona no Notebook, lánzao por consola"
   ]
  },
  {
   "cell_type": "markdown",
   "id": "39b3e921",
   "metadata": {},
   "source": [
    "#### Spark App que conta palabras a través dun fluxo de datos vía Socket TCP e fai un ranking"
   ]
  },
  {
   "cell_type": "code",
   "execution_count": null,
   "id": "9bc357c0",
   "metadata": {},
   "outputs": [],
   "source": []
  }
 ],
 "metadata": {
  "kernelspec": {
   "display_name": "Python 3 (ipykernel)",
   "language": "python",
   "name": "python3"
  },
  "language_info": {
   "codemirror_mode": {
    "name": "ipython",
    "version": 3
   },
   "file_extension": ".py",
   "mimetype": "text/x-python",
   "name": "python",
   "nbconvert_exporter": "python",
   "pygments_lexer": "ipython3",
   "version": "3.8.10"
  }
 },
 "nbformat": 4,
 "nbformat_minor": 5
}
