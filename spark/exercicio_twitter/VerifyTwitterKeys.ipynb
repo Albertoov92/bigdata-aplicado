{
 "cells": [
  {
   "cell_type": "code",
   "execution_count": null,
   "id": "c6184f6a-3724-49d0-927e-6e1969004a88",
   "metadata": {},
   "outputs": [],
   "source": [
    "# Verificación das credenciais de twitter"
   ]
  },
  {
   "cell_type": "code",
   "execution_count": null,
   "id": "c77d297e-c975-4070-9c79-96c1bafaeff6",
   "metadata": {},
   "outputs": [],
   "source": [
    "import tweepy"
   ]
  },
  {
   "cell_type": "code",
   "execution_count": null,
   "id": "933e54e7-fbb0-4d74-aebd-389a1d95d936",
   "metadata": {},
   "outputs": [],
   "source": [
    "# Consumer keys and access tokens, used for OAuth\n",
    "consumer_key    = ''\n",
    "consumer_secret = ''\n",
    "access_token    = ''\n",
    "access_secret   = ''"
   ]
  },
  {
   "cell_type": "code",
   "execution_count": null,
   "id": "28acc763-931f-40a9-93a7-768e1f302cdf",
   "metadata": {},
   "outputs": [],
   "source": [
    "# OAuth process, using the keys and tokens\n",
    "auth = tweepy.OAuthHandler(consumer_key, consumer_secret)\n",
    "auth.set_access_token(access_token, access_secret)\n",
    " \n",
    "# Creation of the actual interface, using authentication\n",
    "api = tweepy.API(auth)\n",
    " \n",
    "# If the authentication was successful, this should print the\n",
    "# screen name / username of the account\n",
    "print(api.verify_credentials().screen_name)"
   ]
  },
  {
   "cell_type": "code",
   "execution_count": null,
   "id": "7a80960c-3a28-4dc7-a693-d61fa23e2409",
   "metadata": {},
   "outputs": [],
   "source": []
  }
 ],
 "metadata": {
  "kernelspec": {
   "display_name": "Python 3 (ipykernel)",
   "language": "python",
   "name": "python3"
  },
  "language_info": {
   "codemirror_mode": {
    "name": "ipython",
    "version": 3
   },
   "file_extension": ".py",
   "mimetype": "text/x-python",
   "name": "python",
   "nbconvert_exporter": "python",
   "pygments_lexer": "ipython3",
   "version": "3.8.10"
  }
 },
 "nbformat": 4,
 "nbformat_minor": 5
}
