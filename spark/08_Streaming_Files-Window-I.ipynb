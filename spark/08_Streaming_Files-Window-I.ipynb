{
 "cells": [
  {
   "cell_type": "markdown",
   "id": "5a12ef0c",
   "metadata": {},
   "source": [
    "### Structured Streaming\n",
    "\n",
    "\n",
    "#### Exemplo de lectura de ficheiros - Window\n",
    "\n",
    "\n",
    "https://spark.apache.org/docs/latest/structured-streaming-programming-guide.html#overview"
   ]
  },
  {
   "cell_type": "raw",
   "id": "e56e6852",
   "metadata": {},
   "source": []
  },
  {
   "cell_type": "code",
   "execution_count": null,
   "id": "ae7e681f",
   "metadata": {},
   "outputs": [],
   "source": [
    "# Neste exemplo, imaxina que recibes ficheiros coas consumicións dun negocio (simplificando ao límite do absurdo)\n",
    "# No ficheiro indícase a data e hora (timestamp) de cada consumición e o seu tipo (café, auga, birra, ...)\n",
    "# Queremos tratar esa información en \"ventás temporais\" para respostar a pregunta do estilo: \n",
    "# Canto café se ten consumido nos últimos 10 minutos?"
   ]
  },
  {
   "cell_type": "code",
   "execution_count": null,
   "id": "3672524c",
   "metadata": {},
   "outputs": [],
   "source": [
    "# No caso de de lanzar a aplicación desde consola debemos configurar a session\n",
    "from pyspark.sql import SparkSession\n",
    "\n",
    "spark = SparkSession \\\n",
    "    .builder \\\n",
    "    .appName(\"StreamingFilesWindowed\") \\\n",
    "    .getOrCreate() "
   ]
  },
  {
   "cell_type": "code",
   "execution_count": null,
   "id": "ef75e55a",
   "metadata": {},
   "outputs": [],
   "source": [
    "from pyspark.sql.types import StructType\n",
    "from pyspark.sql.functions import *\n",
    "\n",
    "userSchema = StructType().add(\"hora\", \"timestamp\").add(\"bebida\", \"string\")\n",
    "\n",
    "orixe = spark \\\n",
    "    .readStream \\\n",
    "    .option(\"sep\", \";\") \\\n",
    "    .schema(userSchema) \\\n",
    "    .csv(\"file:///home/hduser/input/csv\")\n",
    "\n",
    "procesado = orixe.groupBy( window(orixe.hora, \"10 minutes\", \"5 minutes\"), orixe.bebida).count()\n",
    "\n",
    "consulta = procesado \\\n",
    "    .writeStream \\\n",
    "    .outputMode(\"complete\") \\\n",
    "    .format(\"console\") \\\n",
    "    .option(\"truncate\",False) \\\n",
    "    .start()\n",
    "\n",
    "consulta.awaitTermination()"
   ]
  },
  {
   "cell_type": "code",
   "execution_count": null,
   "id": "43370688",
   "metadata": {},
   "outputs": [],
   "source": []
  }
 ],
 "metadata": {
  "kernelspec": {
   "display_name": "Python 3 (ipykernel)",
   "language": "python",
   "name": "python3"
  },
  "language_info": {
   "codemirror_mode": {
    "name": "ipython",
    "version": 3
   },
   "file_extension": ".py",
   "mimetype": "text/x-python",
   "name": "python",
   "nbconvert_exporter": "python",
   "pygments_lexer": "ipython3",
   "version": "3.8.10"
  }
 },
 "nbformat": 4,
 "nbformat_minor": 5
}
