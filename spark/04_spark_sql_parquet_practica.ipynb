{
 "cells": [
  {
   "cell_type": "markdown",
   "id": "4b02d094",
   "metadata": {},
   "source": [
    "### Dataframes, Spark SQL e Parquet - practica"
   ]
  },
  {
   "cell_type": "code",
   "execution_count": 1,
   "id": "7956debe",
   "metadata": {},
   "outputs": [],
   "source": [
    "# Carga o ficheiro purchases.txt desde o sistema de ficheiros localabs"
   ]
  },
  {
   "cell_type": "code",
   "execution_count": null,
   "id": "d0c9a756",
   "metadata": {},
   "outputs": [],
   "source": []
  },
  {
   "cell_type": "code",
   "execution_count": 2,
   "id": "e9e8b263",
   "metadata": {},
   "outputs": [],
   "source": [
    "# Crea unha táboa sobre o dataframe para poder realizar consultas SQL"
   ]
  },
  {
   "cell_type": "code",
   "execution_count": null,
   "id": "16a33d92",
   "metadata": {},
   "outputs": [],
   "source": []
  },
  {
   "cell_type": "code",
   "execution_count": 3,
   "id": "06519f9d",
   "metadata": {},
   "outputs": [],
   "source": [
    "# Mostra os datos do dataframe"
   ]
  },
  {
   "cell_type": "code",
   "execution_count": null,
   "id": "f7ccb850",
   "metadata": {},
   "outputs": [],
   "source": []
  },
  {
   "cell_type": "code",
   "execution_count": 4,
   "id": "742669b9",
   "metadata": {},
   "outputs": [],
   "source": [
    "# Mostra os datos da táboa cunha consulta SQL"
   ]
  },
  {
   "cell_type": "code",
   "execution_count": null,
   "id": "b403b4fa",
   "metadata": {},
   "outputs": [],
   "source": []
  },
  {
   "cell_type": "code",
   "execution_count": 5,
   "id": "a47de64b",
   "metadata": {},
   "outputs": [],
   "source": [
    "# Conta o número de vendas por tenda"
   ]
  },
  {
   "cell_type": "code",
   "execution_count": null,
   "id": "e7dd6f30",
   "metadata": {},
   "outputs": [],
   "source": []
  },
  {
   "cell_type": "code",
   "execution_count": 6,
   "id": "994c7904",
   "metadata": {},
   "outputs": [],
   "source": [
    "# Fai un total de vendas por categoría"
   ]
  },
  {
   "cell_type": "code",
   "execution_count": null,
   "id": "e4acf0ce",
   "metadata": {},
   "outputs": [],
   "source": []
  },
  {
   "cell_type": "code",
   "execution_count": 7,
   "id": "87db82d8",
   "metadata": {},
   "outputs": [],
   "source": [
    "# Garda o dataframe en HDFS en formato parquet, con particións para as diferentes tendas"
   ]
  },
  {
   "cell_type": "code",
   "execution_count": null,
   "id": "29da5cd8",
   "metadata": {},
   "outputs": [],
   "source": []
  },
  {
   "cell_type": "code",
   "execution_count": 8,
   "id": "d11a99e0",
   "metadata": {},
   "outputs": [],
   "source": [
    "# Carga os datos da tenda de San Jose"
   ]
  },
  {
   "cell_type": "code",
   "execution_count": null,
   "id": "970eda7a",
   "metadata": {},
   "outputs": [],
   "source": []
  },
  {
   "cell_type": "code",
   "execution_count": 9,
   "id": "89d43ad4",
   "metadata": {},
   "outputs": [],
   "source": [
    "# Mostra os datos do dataframe"
   ]
  },
  {
   "cell_type": "code",
   "execution_count": null,
   "id": "d8441aa9",
   "metadata": {},
   "outputs": [],
   "source": []
  },
  {
   "cell_type": "code",
   "execution_count": 10,
   "id": "2eb647e9",
   "metadata": {},
   "outputs": [],
   "source": [
    "# Crea unha táboa sobre o dataframe dos datos de San Jose"
   ]
  },
  {
   "cell_type": "code",
   "execution_count": null,
   "id": "3b30463c",
   "metadata": {},
   "outputs": [],
   "source": []
  },
  {
   "cell_type": "code",
   "execution_count": 11,
   "id": "2089c3c9",
   "metadata": {},
   "outputs": [],
   "source": [
    "# Mostra os datos da táboa"
   ]
  },
  {
   "cell_type": "code",
   "execution_count": null,
   "id": "419d3f10",
   "metadata": {},
   "outputs": [],
   "source": []
  },
  {
   "cell_type": "code",
   "execution_count": 12,
   "id": "9c05c885",
   "metadata": {},
   "outputs": [],
   "source": [
    "# Consulta o total de vendas de San José por tipo de elementos (categoría)"
   ]
  },
  {
   "cell_type": "code",
   "execution_count": null,
   "id": "e93245a1",
   "metadata": {},
   "outputs": [],
   "source": []
  }
 ],
 "metadata": {
  "kernelspec": {
   "display_name": "Python 3 (ipykernel)",
   "language": "python",
   "name": "python3"
  },
  "language_info": {
   "codemirror_mode": {
    "name": "ipython",
    "version": 3
   },
   "file_extension": ".py",
   "mimetype": "text/x-python",
   "name": "python",
   "nbconvert_exporter": "python",
   "pygments_lexer": "ipython3",
   "version": "3.8.10"
  }
 },
 "nbformat": 4,
 "nbformat_minor": 5
}
