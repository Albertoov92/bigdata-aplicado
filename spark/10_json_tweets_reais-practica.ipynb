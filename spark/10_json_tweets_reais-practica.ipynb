{
 "cells": [
  {
   "cell_type": "markdown",
   "id": "6ebfc546",
   "metadata": {},
   "source": [
    "#### Lectura de ficheiros con tweets completos - Algunhas preguntas interesantes sobre os tweets"
   ]
  },
  {
   "cell_type": "code",
   "execution_count": null,
   "id": "9295f7d2",
   "metadata": {},
   "outputs": [],
   "source": [
    "# Exercicio de repaso de consultas con spark.sql, lecturas, escrituras, gráficas, ....\n",
    "\n",
    "# Responde ás preguntas seguintes para coñecer un pouco mellor a estrutura dun Tweet\n",
    "# Realiza as consultas tanto en \"dot notation\" como en \"SQL notation\"\n",
    "# Exporta os datos de cada consulta CSV\n",
    "# Visualiza os resultados cunha gráfica (seaborn?)\n",
    "\n",
    "# Nota: podes practicar con un extracto do ficheiro final e despois executalo co \n",
    "# ficheiro completo"
   ]
  },
  {
   "cell_type": "code",
   "execution_count": null,
   "id": "20ee5102",
   "metadata": {},
   "outputs": [],
   "source": [
    "# Realiza as consultas sobre o ficheiro con Tweets: tochotweets proporcionado polo profesor"
   ]
  },
  {
   "cell_type": "code",
   "execution_count": null,
   "id": "a76d8c04",
   "metadata": {},
   "outputs": [],
   "source": [
    "ficheiro = \"file:///home/hduser/input/realtweet/5000tweets.json\"\n",
    "df = spark.read.json(ficheiro)"
   ]
  },
  {
   "cell_type": "code",
   "execution_count": null,
   "id": "d60034eb",
   "metadata": {},
   "outputs": [],
   "source": [
    "# Miro o schema\n",
    "# A diferenza do exemplo visto anteriormente, un tweet real ten un schema moito mais amplo\n",
    "# con moita mais información\n",
    "df.printSchema()"
   ]
  },
  {
   "cell_type": "code",
   "execution_count": null,
   "id": "e876d381",
   "metadata": {},
   "outputs": [],
   "source": []
  },
  {
   "cell_type": "code",
   "execution_count": null,
   "id": "995fe473",
   "metadata": {},
   "outputs": [],
   "source": [
    "# 1. Cales son os países con máis tweets?\n",
    "# Son fiables os datos?"
   ]
  },
  {
   "cell_type": "code",
   "execution_count": null,
   "id": "3555daa1",
   "metadata": {},
   "outputs": [],
   "source": []
  },
  {
   "cell_type": "code",
   "execution_count": null,
   "id": "4b74322b",
   "metadata": {},
   "outputs": [],
   "source": [
    "# 2. Cales é o idioma máis presente na rede?\n",
    "# Son fiables os datos?"
   ]
  },
  {
   "cell_type": "code",
   "execution_count": null,
   "id": "8bea6a77",
   "metadata": {},
   "outputs": [],
   "source": []
  },
  {
   "cell_type": "code",
   "execution_count": null,
   "id": "4008f19d",
   "metadata": {},
   "outputs": [],
   "source": [
    "# 3. Tweeteiros máis activos"
   ]
  },
  {
   "cell_type": "code",
   "execution_count": null,
   "id": "5219c8fc",
   "metadata": {},
   "outputs": [],
   "source": []
  },
  {
   "cell_type": "code",
   "execution_count": null,
   "id": "ada61682",
   "metadata": {},
   "outputs": [],
   "source": [
    "# 4. Tweeteiros con máis seguidores"
   ]
  },
  {
   "cell_type": "code",
   "execution_count": null,
   "id": "6cd6b147",
   "metadata": {},
   "outputs": [],
   "source": []
  }
 ],
 "metadata": {
  "kernelspec": {
   "display_name": "Python 3 (ipykernel)",
   "language": "python",
   "name": "python3"
  },
  "language_info": {
   "codemirror_mode": {
    "name": "ipython",
    "version": 3
   },
   "file_extension": ".py",
   "mimetype": "text/x-python",
   "name": "python",
   "nbconvert_exporter": "python",
   "pygments_lexer": "ipython3",
   "version": "3.8.10"
  }
 },
 "nbformat": 4,
 "nbformat_minor": 5
}
