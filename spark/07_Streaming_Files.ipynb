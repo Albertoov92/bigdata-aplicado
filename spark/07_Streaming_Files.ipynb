{
 "cells": [
  {
   "cell_type": "markdown",
   "id": "5a12ef0c",
   "metadata": {},
   "source": [
    "### Structured Streaming\n",
    "\n",
    "\n",
    "#### Exemplo de lectura de ficheiros\n",
    "\n",
    "\n",
    "https://spark.apache.org/docs/latest/structured-streaming-programming-guide.html#overview"
   ]
  },
  {
   "cell_type": "code",
   "execution_count": null,
   "id": "e235619e",
   "metadata": {},
   "outputs": [],
   "source": [
    "# Lectura de ficheiros CSV con dous campos: nome;idade"
   ]
  },
  {
   "cell_type": "code",
   "execution_count": null,
   "id": "04e61c3b",
   "metadata": {},
   "outputs": [],
   "source": [
    "from pyspark.sql.types import StructType"
   ]
  },
  {
   "cell_type": "code",
   "execution_count": null,
   "id": "6f13fe60",
   "metadata": {},
   "outputs": [],
   "source": [
    "# Definimos o esquema do Dataframe\n",
    "userSchema = StructType().add(\"name\", \"string\").add(\"age\", \"integer\")\n",
    "\n",
    "# Creamos un Dataframe para ler o fluxo de ficheiros\n",
    "csvDF = spark \\\n",
    "    .readStream \\\n",
    "    .option(\"sep\", \";\") \\\n",
    "    .schema(userSchema) \\\n",
    "    .csv(\"file:///home/hduser/code/spark/csv\")"
   ]
  },
  {
   "cell_type": "code",
   "execution_count": null,
   "id": "758e9be8",
   "metadata": {},
   "outputs": [],
   "source": [
    "# Lanzamos a query que executa a lectura sobre o stream de entrada\n",
    "# Seleccionamos o modo de saída \"update\", que mostrará unicamente os cambios en cada nova lectura\n",
    "# format: console -> mostrará os datos por consola\n",
    "query = csvDF \\\n",
    "    .writeStream \\\n",
    "    .outputMode(\"update\") \\\n",
    "    .format(\"console\") \\\n",
    "    .start()\n",
    "\n",
    "query.awaitTermination()"
   ]
  },
  {
   "cell_type": "code",
   "execution_count": null,
   "id": "a9a94578",
   "metadata": {},
   "outputs": [],
   "source": []
  },
  {
   "cell_type": "code",
   "execution_count": null,
   "id": "eda6b7d6",
   "metadata": {},
   "outputs": [],
   "source": [
    "# Podemos limitar os restultados mostrados\n",
    "# Por exemplo: mostrar unicamente os maiores de idade"
   ]
  },
  {
   "cell_type": "code",
   "execution_count": null,
   "id": "d02f33e9",
   "metadata": {},
   "outputs": [],
   "source": [
    "userSchema = StructType().add(\"name\", \"string\").add(\"age\", \"integer\")\n",
    "\n",
    "csvDF = spark \\\n",
    "    .readStream \\\n",
    "    .option(\"sep\", \";\") \\\n",
    "    .schema(userSchema) \\\n",
    "    .csv(\"file:///home/hduser/code/spark/csv\")\n",
    "\n",
    "df_adultos = csvDF.where(\"age >= 18\")\n",
    "\n",
    "query = df_adultos \\\n",
    "    .writeStream \\\n",
    "    .outputMode(\"update\") \\\n",
    "    .format(\"console\") \\\n",
    "    .start()\n",
    "\n",
    "query.awaitTermination()"
   ]
  },
  {
   "cell_type": "code",
   "execution_count": null,
   "id": "195f3e9a",
   "metadata": {},
   "outputs": [],
   "source": []
  },
  {
   "cell_type": "code",
   "execution_count": null,
   "id": "723506e1",
   "metadata": {},
   "outputs": [],
   "source": [
    "# Podemos realizar diferentes consultas, non só mostrar os datos"
   ]
  },
  {
   "cell_type": "code",
   "execution_count": null,
   "id": "d923fc92",
   "metadata": {},
   "outputs": [],
   "source": [
    "userSchema = StructType().add(\"name\", \"string\").add(\"age\", \"integer\")\n",
    "\n",
    "csvDF = spark \\\n",
    "    .readStream \\\n",
    "    .option(\"sep\", \";\") \\\n",
    "    .schema(userSchema) \\\n",
    "    .csv(\"file:///home/hduser/code/spark/csv\")\n",
    "\n",
    "df_vellos = csvDF.agg({'age':'max'})\n",
    "\n",
    "query = df_vellos \\\n",
    "    .writeStream \\\n",
    "    .outputMode(\"update\") \\\n",
    "    .format(\"console\") \\\n",
    "    .start()\n",
    "\n",
    "query.awaitTermination()"
   ]
  },
  {
   "cell_type": "code",
   "execution_count": null,
   "id": "bb5360a6",
   "metadata": {
    "scrolled": true
   },
   "outputs": [],
   "source": []
  },
  {
   "cell_type": "code",
   "execution_count": null,
   "id": "e99140d8",
   "metadata": {},
   "outputs": [],
   "source": [
    "# En moitas ocasións será cómodo expresar a consulta con linguaxe SQL"
   ]
  },
  {
   "cell_type": "code",
   "execution_count": null,
   "id": "cc2c9a8d",
   "metadata": {},
   "outputs": [],
   "source": [
    "userSchema = StructType().add(\"name\", \"string\").add(\"age\", \"integer\")\n",
    "\n",
    "csvDF = spark \\\n",
    "    .readStream \\\n",
    "    .option(\"sep\", \";\") \\\n",
    "    .schema(userSchema) \\\n",
    "    .csv(\"file:///home/hduser/code/spark/csv\")\n",
    "\n",
    "csvDF.createOrReplaceTempView(\"people\")\n",
    "#df_sql = spark.sql(\"SELECT name, MAX(age) FROM people GROUP BY name\")\n",
    "df_sql = spark.sql(\"SELECT * FROM people WHERE age >=50\")\n",
    "\n",
    "query = df_sql \\\n",
    "    .writeStream \\\n",
    "    .outputMode(\"update\") \\\n",
    "    .format(\"console\") \\\n",
    "    .start()\n",
    "\n",
    "query.awaitTermination()"
   ]
  },
  {
   "cell_type": "code",
   "execution_count": null,
   "id": "364c4022",
   "metadata": {},
   "outputs": [],
   "source": []
  }
 ],
 "metadata": {
  "kernelspec": {
   "display_name": "Python 3 (ipykernel)",
   "language": "python",
   "name": "python3"
  },
  "language_info": {
   "codemirror_mode": {
    "name": "ipython",
    "version": 3
   },
   "file_extension": ".py",
   "mimetype": "text/x-python",
   "name": "python",
   "nbconvert_exporter": "python",
   "pygments_lexer": "ipython3",
   "version": "3.8.10"
  }
 },
 "nbformat": 4,
 "nbformat_minor": 5
}
