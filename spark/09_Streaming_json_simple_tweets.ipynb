{
 "cells": [
  {
   "cell_type": "markdown",
   "id": "6ebfc546",
   "metadata": {},
   "source": [
    "#### Lectura de ficheiros JSON e primeira aproximación á Twitter"
   ]
  },
  {
   "cell_type": "code",
   "execution_count": null,
   "id": "a76d8c04",
   "metadata": {},
   "outputs": [],
   "source": [
    "# A diferenza de read.csv, ao que lle temos que proporcionar un Schema, read.json estrae o esquema\n",
    "# do propio documento JSON\n",
    "filepath = 'file:///home/hduser/code/bigdata-aplicado/datasets/tweets_simple_01.json'\n",
    "df = spark.read.json(filepath)"
   ]
  },
  {
   "cell_type": "code",
   "execution_count": null,
   "id": "d60034eb",
   "metadata": {},
   "outputs": [],
   "source": [
    "# Miro o schema\n",
    "df.printSchema()"
   ]
  },
  {
   "cell_type": "code",
   "execution_count": null,
   "id": "995fe473",
   "metadata": {},
   "outputs": [],
   "source": [
    "# Mostro algúns datos de exemplo\n",
    "df.show(5)"
   ]
  },
  {
   "cell_type": "code",
   "execution_count": null,
   "id": "94cbe2f9",
   "metadata": {},
   "outputs": [],
   "source": [
    "# Podo forzar a que se mostre todo o texto en calquera columna, por exemplo, en 'text'\n",
    "df.select('text').show(3, truncate=False)"
   ]
  },
  {
   "cell_type": "code",
   "execution_count": null,
   "id": "2711ff67",
   "metadata": {},
   "outputs": [],
   "source": [
    "# Miro o tamaño do dataset == conto o número de tweets\n",
    "df.count()"
   ]
  },
  {
   "cell_type": "code",
   "execution_count": null,
   "id": "0544e642",
   "metadata": {},
   "outputs": [],
   "source": [
    "# Consultamos o formato das datas\n",
    "# EEE MMM d HH:mm:ss z yyyy\n",
    "# # https://spark.apache.org/docs/latest/sql-ref-datetime-pattern.html\n",
    "df.select('created_at').show(3,truncate=False)"
   ]
  },
  {
   "cell_type": "code",
   "execution_count": null,
   "id": "1be15972",
   "metadata": {},
   "outputs": [],
   "source": [
    "# Hai un problema co parsing a timestamp no paso de spark 2.0 a 3.0\n",
    "# Unha solución é activar o pasing legacy\n",
    "# https://stackoverflow.com/questions/62602720/string-to-date-migration-from-spark-2-0-to-3-0-gives-fail-to-recognize-eee-mmm\n",
    "\n",
    "spark.sql(\"set spark.sql.legacy.timeParserPolicy=LEGACY\")\n",
    "\n",
    "from pyspark.sql.functions import *\n",
    "\n",
    "df = spark.read.json(filepath)\n",
    "df = df.withColumn('created_at',to_timestamp(df.created_at, 'EEE MMM d HH:mm:ss z yyyy'))\n",
    "\n",
    "df.show(5)"
   ]
  },
  {
   "cell_type": "code",
   "execution_count": null,
   "id": "fbc2e1a7",
   "metadata": {},
   "outputs": [],
   "source": [
    "df.printSchema()"
   ]
  },
  {
   "cell_type": "code",
   "execution_count": null,
   "id": "2ff8c653",
   "metadata": {},
   "outputs": [],
   "source": []
  }
 ],
 "metadata": {
  "kernelspec": {
   "display_name": "Python 3 (ipykernel)",
   "language": "python",
   "name": "python3"
  },
  "language_info": {
   "codemirror_mode": {
    "name": "ipython",
    "version": 3
   },
   "file_extension": ".py",
   "mimetype": "text/x-python",
   "name": "python",
   "nbconvert_exporter": "python",
   "pygments_lexer": "ipython3",
   "version": "3.8.10"
  }
 },
 "nbformat": 4,
 "nbformat_minor": 5
}
